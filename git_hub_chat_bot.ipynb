{
 "cells": [
  {
   "cell_type": "markdown",
   "id": "9d8ffe17-ab51-4e39-88af-36205e9bd561",
   "metadata": {},
   "source": [
    "Import packages."
   ]
  },
  {
   "cell_type": "code",
   "execution_count": 1,
   "id": "bd1f18f5",
   "metadata": {},
   "outputs": [
    {
     "name": "stderr",
     "output_type": "stream",
     "text": [
      "/Users/ub8r3a2/VirtualEnvs/llama/lib/python3.9/site-packages/urllib3/__init__.py:35: NotOpenSSLWarning: urllib3 v2 only supports OpenSSL 1.1.1+, currently the 'ssl' module is compiled with 'LibreSSL 2.8.3'. See: https://github.com/urllib3/urllib3/issues/3020\n",
      "  warnings.warn(\n"
     ]
    }
   ],
   "source": [
    "import openai\n",
    "import os\n",
    "from langchain.chains import LLMChain\n",
    "from langchain import OpenAI, LLMChain, PromptTemplate\n",
    "from langchain.docstore.document import Document\n",
    "from langchain.text_splitter import CharacterTextSplitter, RecursiveCharacterTextSplitter\n",
    "from langchain_community.vectorstores import FAISS\n",
    "from langchain.chains import RetrievalQA\n",
    "from langchain.evaluation.qa import ContextQAEvalChain\n",
    "from langchain.memory import ConversationBufferWindowMemory\n",
    "\n",
    "from langchain_openai import ChatOpenAI\n",
    "from langchain_openai import OpenAIEmbeddings\n",
    "import httpx\n",
    "import tabulate"
   ]
  },
  {
   "cell_type": "markdown",
   "id": "966bb2e4-5554-4b4d-89c3-3f8766fe389f",
   "metadata": {},
   "source": [
    "Set up of LLM. "
   ]
  },
  {
   "cell_type": "code",
   "execution_count": 2,
   "id": "cf628de1",
   "metadata": {},
   "outputs": [],
   "source": [
    "import os, getpass\n",
    "\n",
    "def _set_env(var: str):\n",
    "    if not os.environ.get(var):\n",
    "        os.environ[var] = getpass.getpass(f\"{var}: \")\n",
    "\n",
    "_set_env(\"OPENAI_API_KEY\")\n"
   ]
  },
  {
   "cell_type": "code",
   "execution_count": 3,
   "id": "204ac8eb",
   "metadata": {},
   "outputs": [
    {
     "name": "stderr",
     "output_type": "stream",
     "text": [
      "/Users/ub8r3a2/VirtualEnvs/llama/lib/python3.9/site-packages/langchain_openai/embeddings/base.py:281: UserWarning: WARNING! user is not default parameter.\n",
      "                    user was transferred to model_kwargs.\n",
      "                    Please confirm that user is what you intended.\n",
      "  warnings.warn(\n",
      "/Users/ub8r3a2/VirtualEnvs/llama/lib/python3.9/site-packages/IPython/core/interactiveshell.py:3550: UserWarning: WARNING! user is not default parameter.\n",
      "                user was transferred to model_kwargs.\n",
      "                Please confirm that user is what you intended.\n",
      "  exec(code_obj, self.user_global_ns, self.user_ns)\n"
     ]
    }
   ],
   "source": [
    "llm = ChatOpenAI(model=\"gpt-4o\")"
   ]
  },
  {
   "cell_type": "markdown",
   "id": "cb64a332-45e2-490f-a7bc-17b31669c92a",
   "metadata": {},
   "source": [
    "Adding context."
   ]
  },
  {
   "cell_type": "code",
   "execution_count": 4,
   "id": "5744598f",
   "metadata": {},
   "outputs": [],
   "source": [
    "body_1 = \"\"\"\n",
    "        Investing in your 20s.\n",
    "        \n",
    "        In your 20s, you’re at the very beginning of your adult life. You’re probably embarking on a career, learning to manage expenses and maybe even thinking about buying a condo or house. While retirement probably feels far away, one of the smartest moves you can make financially in your 20s is to start investing for your long-term financial goals.\n",
    "\n",
    "        There are a few reasons for this. For one thing, starting to invest early means your portfolio can handle more risk and withstand short-term market volatility to generate returns over time. You’ll also reap the benefits of compound growth, boosting your investing power and building a strong foundation for your future.\n",
    "\n",
    "        One thing to note: Before you invest any money, be sure you won’t need it for living expenses, such as rent, food and utilities. It’s also a good idea to start saving into an  so you’re covered in case of unexpected expenses.\n",
    "\n",
    "        Here are some tips for how to approach investing in your 20s.\n",
    "\n",
    "        A potential asset allocation mix when investing in your 20s\n",
    "        Stocks: 90%\n",
    "        Bonds: 10%\n",
    "        Build a financial base\n",
    "        Two words: . Money you invest in your 20s will benefit from decades of interest. Consider this hypothetical example: $10,000 invested at age 25 — with a 6% return, compounded annually — can net you $109,000 at age 65.\n",
    "\n",
    "        Be aggressive\n",
    "        Allocating most of your investments to stocks can be risky, because equity investments are generally more volatile than bonds. But stocks may also have more potential for growth, and in your 20s, your portfolio has more time to recover from any potential losses.\n",
    "\n",
    "        Join an employer-sponsored retirement plan\n",
    "        If you have access to one, investing through an , such as a 401(k), SEP or SIMPLE IRA, is the easiest way to save for your future. Contributions are directly withdrawn from your paycheck, and many employers will match those contributions up to a certain amount, too.\n",
    "\n",
    "        If it’s available, selecting a target date fund option can help keep your asset allocation in line with your age. And don’t forget about your .\n",
    "\n",
    "        Open an IRA\n",
    "        If you have a little extra money to invest in your future each month or don’t have access to a 401(k), a traditional individual retirement account (IRA) or Roth IRA is another way to help you save for retirement.\n",
    "\n",
    "        A  may be a particularly good choice early in your career, and here’s why: Roth accounts are funded with after-tax money, and you can withdraw the earnings tax-free after age 59 1/2. If you’re currently in a lower tax bracket than you expect to be at retirement, investing in a Roth IRA in your 20s could mean you pay less tax on that money overall. \n",
    "\n",
    "        Pay down debt\n",
    "        You should pay off high-interest credit card debt first, but paying off lower-interest student loans may also help you save and invest more in the long run.\n",
    "        \"\"\"\n",
    "\n",
    "body_2 = \"\"\"\n",
    "            Investing in your 40s.\n",
    "            In your 40s, your career is likely well established, and your children, if you have them, might be old enough to start thinking about college. Suddenly, retirement doesn’t seem so far away, even though you may have a couple of decades of work left.\n",
    "\n",
    "            Now is the time to maximize your retirement savings contributions, if possible, and assess your mix of investments to ensure your level of risk is appropriate for your time of life.\n",
    "\n",
    "            Consider these strategies when investing in your 40s.\n",
    "\n",
    "            A potential asset allocation mix when investing in your 40s\n",
    "            Stocks: 70%\n",
    "            Bonds: 30%\n",
    "            Mix in moderate risk\n",
    "            As your investment portfolio grows, consider allocating more funds to fixed-income investments, such as . Though these may offer less gains, they may also experience less volatility than equities. Lowering your risk slightly in your 40s may help keep you on track for retirement.\n",
    "\n",
    "            Take full advantage of your 401(k)\n",
    "            Work to max out your contributions to your employer retirement plan. Make sure you’re taking advantage of an employer match if it’s offered, and if possible, try to contribute  each year. If you have an HSA, consider maxing out your contributions here, as well.\n",
    "            Broaden your portfolio\n",
    "            If you’re maxing out contributions to your retirement accounts and have extra income to invest, consider opening a .  \n",
    "\n",
    "            Pay down your mortgage\n",
    "            Your mortgage may have many years left on it, but if you have extra money, you could  and reduce what you pay in overall interest. Alternatively, you could keep your mortgage as it is and use that extra money to invest for retirement. You may still have 20+ years of your working life left, and the power of compound interest will boost any extra 401(k) or IRA contributions you make.\n",
    "\n",
    "\"\"\"\n",
    "\n",
    "body_3 = \"\"\"\n",
    "            Investing in your 60s.\n",
    "            Consider your early 60s a test run for retirement. You’ll want to plan your retirement distributions for maximum tax-efficiency and prepare mentally, and financially, to live on a fixed income. Before and after retirement, your investments should also be fairly low risk to ensure you have the retirement income that works for your lifestyle.\n",
    "\n",
    "            Read on for tips for investing in your 60s. \n",
    "\n",
    "            A potential asset allocation mix when investing in your 60s\n",
    "            Stocks: 50%\n",
    "            Bonds: 40%\n",
    "            Cash and cash equivalents: 10%\n",
    "            Maintain low risk\n",
    "            You may want to include more fixed-income bonds and even cash and cash equivalents (such as certificates of deposits (CDs) and money market accounts) in your investment mix to lower your market risk and create a steady income for your distributions. However, keeping some money in stocks can help keep your portfolio diversified and protect your savings from the impact of inflation.\n",
    "\n",
    "            Plan your retirement income withdrawal strategy\n",
    "            While the “4% rule” may be the most common strategy, how you  isn’t a one-size-fits-all solution. Make sure to factor taxes, other income sources and life expectancy into your plan.\n",
    "\n",
    "            If you’re able, try living off your projected income for a few months prior to retirement to see if your strategy will work for you long-term.     \n",
    "\n",
    "            Consider your legacy and next generations\n",
    "            Well before your 60s, and especially if you have dependents, you should have the , such as your will and other estate documents. Make sure to review your estate plan regularly or after a major life event to ensure it still meets your intentions.\n",
    "\n",
    "             Once you’ve reached retirement, starting your wealth transfer and yearly charitable giving may help lower the tax burden for your estate.\n",
    "\n",
    "\"\"\""
   ]
  },
  {
   "cell_type": "markdown",
   "id": "e0dca03d-0d7c-4249-8f8b-a6a702c16efa",
   "metadata": {},
   "source": [
    "Define data objects:\n",
    "OverallState and FinalAnswerState are the State objects.\n",
    "Answer and FinalAnswer are data schemas for answer generation."
   ]
  },
  {
   "cell_type": "code",
   "execution_count": 5,
   "id": "3d068f6e",
   "metadata": {},
   "outputs": [],
   "source": [
    "import operator\n",
    "from typing import Annotated\n",
    "from typing_extensions import TypedDict\n",
    "from pydantic import BaseModel, Field\n",
    "\n",
    "class OverallState(TypedDict):\n",
    "    question: str\n",
    "    contexts: list\n",
    "    perspective: str    \n",
    "    perspectives: list\n",
    "    \n",
    "    answers: Annotated[list, operator.add] \n",
    "    \n",
    "class FinalAnswerState(TypedDict):\n",
    "    all_inclusive_answer: str\n",
    "    \n",
    "class Answer(BaseModel):\n",
    "    answer: str = Field(\n",
    "        description=\"Answer to user's question.\",\n",
    "    )\n",
    "        \n",
    "class FinalAnswer(BaseModel):\n",
    "    final_answer: str = Field(\n",
    "        description=\"Comprehensive answer to user's question.\",\n",
    "    )"
   ]
  },
  {
   "cell_type": "markdown",
   "id": "97d586ef-e6e0-4771-81e1-794c01a30b4d",
   "metadata": {},
   "source": [
    "Define functions for our graph nodes and edges."
   ]
  },
  {
   "cell_type": "markdown",
   "id": "7fbc26f6-8b1e-4cff-ac83-ccdbd089c2be",
   "metadata": {},
   "source": [
    "Implements map-reduce concepts by sending every combination of perspective and context to the generate_answer node."
   ]
  },
  {
   "cell_type": "code",
   "execution_count": 6,
   "id": "4e6ef6d5",
   "metadata": {},
   "outputs": [],
   "source": [
    "from langgraph.constants import Send\n",
    "\n",
    "def continue_to_answers(state):\n",
    "    return [Send (\"generate_answer\", {\"question\": state[\"question\"], \"context\": c, \"perspective\": p}) for c in state[\"contexts\"] for p in state[\"perspectives\"]]\n",
    "\n"
   ]
  },
  {
   "cell_type": "markdown",
   "id": "d6a65234-7c44-42f1-961a-adfa2e57e103",
   "metadata": {},
   "source": [
    "Call to LLM to generate a contex based answer from the point of each perspective."
   ]
  },
  {
   "cell_type": "code",
   "execution_count": 7,
   "id": "85ff32dd",
   "metadata": {},
   "outputs": [],
   "source": [
    "def generate_answer(state):\n",
    "    answer_prompt = \"\"\"Based only on {context} generate answer to the {question} for the perspective {perspective}\"\"\"\n",
    "    prompt = answer_prompt.format(context=state[\"context\"], question = state[\"question\"], perspective = state[\"perspective\"])\n",
    "    \n",
    "    response = llm.with_structured_output(Answer).invoke(prompt)\n",
    "    return {\"answers\": [response.answer]}"
   ]
  },
  {
   "cell_type": "markdown",
   "id": "907f8505-d1fc-46bf-b179-28d831ccfc23",
   "metadata": {},
   "source": [
    "Call to LLM asking to generate comprehensive answer based on a list of perspective based answers from all the given contexts."
   ]
  },
  {
   "cell_type": "code",
   "execution_count": 8,
   "id": "d701d5cc",
   "metadata": {},
   "outputs": [],
   "source": [
    "def comprehensive_answer(state):\n",
    "    \n",
    "    comprehensive_answer_prompt = \"\"\"Below is a list of answers to the {question}.\n",
    "                                     Each answer is formulated for a specific perspective from the list of {perspectives}. \n",
    "                                     Based on those answers, create one comprehensive answer. \n",
    "                                     Answers: \\n\\n  {answers}\"\"\"\n",
    "    prompt = comprehensive_answer_prompt.format(question = state[\"question\"], perspectives = state[\"perspectives\"], answers = state[\"answers\"])\n",
    "    response = llm.with_structured_output(FinalAnswer).invoke(prompt)\n",
    "    return {\"all_inclusive_answer\": response.final_answer}\n",
    "    "
   ]
  },
  {
   "cell_type": "code",
   "execution_count": null,
   "id": "c7d4fb97-9dd1-47e1-96e2-03485b8b52b4",
   "metadata": {},
   "outputs": [],
   "source": [
    "Define our graph."
   ]
  },
  {
   "cell_type": "code",
   "execution_count": 9,
   "id": "feb7b682",
   "metadata": {},
   "outputs": [
    {
     "name": "stderr",
     "output_type": "stream",
     "text": [
      "/var/folders/m7/hcqxm0r55vj2b2c8gv3nxtkchy1kzp/T/ipykernel_22088/2323624567.py:6: LangGraphDeprecationWarning: Initializing StateGraph without state_schema is deprecated. Please pass in an explicit state_schema instead of just an input and output schema.\n",
      "  graph = StateGraph(input = OverallState, output = FinalAnswerState)\n"
     ]
    },
    {
     "data": {
      "image/jpeg": "[encoded data removed]",
      "text/plain": [
       "<IPython.core.display.Image object>"
      ]
     },
     "execution_count": 9,
     "metadata": {},
     "output_type": "execute_result"
    }
   ],
   "source": [
    "from IPython.display import Image\n",
    "from langgraph.graph import END, StateGraph, START\n",
    "\n",
    "# Construct the graph: here we put everything together to construct our graph\n",
    "\n",
    "graph = StateGraph(input = OverallState, output = FinalAnswerState)\n",
    "graph.add_conditional_edges(START, continue_to_answers, [\"generate_answer\"])\n",
    "graph.add_node(\"generate_answer\", generate_answer)\n",
    "graph.add_node(\"comprehensive_answer\", comprehensive_answer)\n",
    "graph.add_edge(\"generate_answer\", \"comprehensive_answer\")\n",
    "graph.add_edge(\"comprehensive_answer\", END)\n",
    "\n",
    "# Compile the graph\n",
    "app = graph.compile()\n",
    "Image(app.get_graph().draw_mermaid_png())"
   ]
  },
  {
   "cell_type": "markdown",
   "id": "4d27453c-5798-414d-8ae7-546b13a863b4",
   "metadata": {},
   "source": [
    "InvestorProfile class describes investment perspective."
   ]
  },
  {
   "cell_type": "code",
   "execution_count": 10,
   "id": "a9479268-27d9-4730-bd2d-02ca3103db14",
   "metadata": {},
   "outputs": [],
   "source": [
    "class InvestorProfile(BaseModel):\n",
    "    age: str = Field(\n",
    "        description=\"Investor's age.\",\n",
    "    )\n",
    "    investment: str = Field(\n",
    "        description=\"Dollar amount of investment capital.\"\n",
    "    )\n",
    "    risk: str = Field(\n",
    "        description=\"How much risk investor wants to take.\",\n",
    "    )\n",
    "    \n",
    "    @property\n",
    "    def persona(self) -> str:\n",
    "        return f\"My age is: {self.age}\\n My investment capital: {self.investment}\\n My risk profile: {self.risk}\\n\"\n"
   ]
  },
  {
   "cell_type": "markdown",
   "id": "564f27eb-4214-4a7a-a3e7-84915c75a6e2",
   "metadata": {},
   "source": [
    "Invoke graph with a list of perspectives and contexts.\n",
    "Each perspective is defined by the instance of the InvestorProfile class."
   ]
  },
  {
   "cell_type": "code",
   "execution_count": 11,
   "id": "42ac985a",
   "metadata": {},
   "outputs": [
    {
     "name": "stdout",
     "output_type": "stream",
     "text": [
      "------------- 1.8238062858581543 seconds -------------\n",
      "**************************\n",
      "Given the diverse age groups, investment capital, and risk profiles, here is a comprehensive investment strategy tailored to different scenarios:\n",
      "\n",
      "1. **Young Investors (21 years old, $5,000, High Risk Tolerance):**\n",
      "   - **Build a Financial Base:** Ensure you have an emergency fund covering 3-6 months of living expenses.\n",
      "   - **Aggressive Asset Allocation:** Consider a mix of 90% stocks and 10% bonds to capitalize on growth potential.\n",
      "   - **Invest in Stocks:** Use index funds or ETFs for diversification and broad market exposure.\n",
      "   - **Retirement Accounts:** Contribute to a 401(k) if available and open a Roth IRA for tax-free growth.\n",
      "   - **Pay Down Debt:** Prioritize paying off high-interest debt.\n",
      "   - **Continuous Learning:** Educate yourself about investing and adjust your strategy as needed.\n",
      "\n",
      "2. **Mid-Life Investors (45 years old, $300,000, Minimal Risk Tolerance):**\n",
      "   - **Diversified Portfolio:** Allocate 40% to stocks and 60% to bonds for balanced growth and stability.\n",
      "   - **High-Quality Bonds:** Invest in U.S. Treasury bonds or highly-rated corporate bonds for steady income.\n",
      "   - **Dividend-Paying Stocks:** Consider blue-chip stocks for regular income through dividends.\n",
      "   - **Real Estate:** Invest in rental properties or REITs for stable income and potential appreciation.\n",
      "   - **Certificates of Deposit (CDs):** Use CDs for low-risk, fixed interest returns.\n",
      "   - **Retirement Contributions:** Maximize contributions to 401(k) and IRAs, including catch-up contributions.\n",
      "   - **Emergency Fund:** Maintain a fund covering 6-12 months of living expenses.\n",
      "   - **Professional Advice:** Consult a financial advisor for a personalized investment plan.\n",
      "\n",
      "3. **Retirees (67 years old, $1,000,000, No Risk Tolerance):**\n",
      "   - **Preserve Capital:** Focus on high-quality bonds, CDs, and fixed annuities for low-risk, steady income.\n",
      "   - **Dividend-Paying Stocks:** Allocate a small portion to blue-chip stocks for income through dividends.\n",
      "   - **Money Market Funds:** Use these for liquidity and stability.\n",
      "   - **Municipal Bonds:** Invest in tax-free municipal bonds for steady income.\n",
      "   - **Real Estate Investment Trusts (REITs):** Consider REITs for income without direct property management.\n",
      "   - **Diversification:** Spread investments across different asset classes to minimize risk.\n",
      "   - **Professional Advice:** Work with a financial advisor to tailor a strategy that meets your needs and goals.\n",
      "\n",
      "By following these tailored strategies, investors at different life stages can work towards their financial goals while managing risk according to their profiles.\n",
      "**************************\n"
     ]
    }
   ],
   "source": [
    "import time\n",
    "start_time = time.time()\n",
    "\n",
    "perspective_one = InvestorProfile(age = \"21 years old\", investment = \"5000 dollars\", risk = \"I am ok with taking financial risk.\")\n",
    "perspective_two = InvestorProfile(age = \"45 years old\", investment = \"300000 dollars\", risk = \"I am only willing to take minimal financial risk.\")\n",
    "perspective_three = InvestorProfile(age = \"67 years old\", investment = \"1000000 dollars\", risk = \"I do not want to take any financial risk.\")\n",
    "\n",
    "input = {\"question\": \"What is the best way to invest my money?\", \"perspectives\": [perspective_one.persona, perspective_two.persona, perspective_three.persona], \"contexts\": [body_1, body_2, body_3]}\n",
    "response = app.invoke(input)\n",
    "print(\"------------- %s seconds -------------\" % (time.time() - start_time))\n",
    "\n",
    "print(\"**************************\")\n",
    "print(response[\"all_inclusive_answer\"])\n",
    "print(\"**************************\")"
   ]
  },
  {
   "cell_type": "code",
   "execution_count": null,
   "id": "fba82baf-d80b-4511-b11d-eda5fbab31ae",
   "metadata": {},
   "outputs": [],
   "source": [
    "import time\n",
    "start_time = time.time()\n",
    "\n",
    "input = {\"question\": \"What is the best way to invest my money?\", \"perspectives\": [\"I am 21 years old\", \"I am 45 years old\", \"I am 61 years old.\"], \"contexts\": [body_1, body_2, body_3]}\n",
    "response = app.invoke(input)\n",
    "print(\"------------- %s seconds -------------\" % (time.time() - start_time))\n",
    "\n",
    "print(\"**************************\")\n",
    "print(response[\"all_inclusive_answer\"])\n",
    "print(\"**************************\")"
   ]
  },
  {
   "cell_type": "code",
   "execution_count": null,
   "id": "f39e5be5",
   "metadata": {},
   "outputs": [],
   "source": [
    "import time\n",
    "start_time = time.time()\n",
    "\n",
    "input = {\"question\": \"What are the tax disadvantages of contributing to a retirement account?\", \"perspectives\": [\"I am 21 years old\", \"I am 45 years old\", \"I am 61 years old.\"], \"contexts\": [body_1, body_2, body_3]}\n",
    "response = app.invoke(input)\n",
    "print(\"------------- %s seconds -------------\" % (time.time() - start_time))\n",
    "\n",
    "print(\"**************************\")\n",
    "print(response[\"all_inclusive_answer\"])\n",
    "print(\"**************************\")"
   ]
  },
  {
   "cell_type": "code",
   "execution_count": null,
   "id": "aaefa65d",
   "metadata": {},
   "outputs": [],
   "source": []
  }
 ],
 "metadata": {
  "kernelspec": {
   "display_name": "llama",
   "language": "python",
   "name": "llama"
  },
  "language_info": {
   "codemirror_mode": {
    "name": "ipython",
    "version": 3
   },
   "file_extension": ".py",
   "mimetype": "text/x-python",
   "name": "python",
   "nbconvert_exporter": "python",
   "pygments_lexer": "ipython3",
   "version": "3.9.6"
  }
 },
 "nbformat": 4,
 "nbformat_minor": 5
}
